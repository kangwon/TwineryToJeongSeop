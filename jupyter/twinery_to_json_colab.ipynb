{
  "nbformat": 4,
  "nbformat_minor": 0,
  "metadata": {
    "colab": {
      "name": "twinery_to_json_colab.ipynb",
      "provenance": [],
      "collapsed_sections": [],
      "authorship_tag": "ABX9TyO7B3pfsPtQxueSfe7oUpVh"
    },
    "kernelspec": {
      "name": "python3",
      "display_name": "Python 3"
    }
  },
  "cells": [
    {
      "cell_type": "code",
      "metadata": {
        "id": "QtvUXusvHG9a"
      },
      "source": [
        "import json\n",
        "from dataclasses import dataclass\n",
        "from html import unescape\n",
        "\n",
        "from google.colab import files"
      ],
      "execution_count": null,
      "outputs": []
    },
    {
      "cell_type": "code",
      "metadata": {
        "id": "4kDvzjDIKbhh"
      },
      "source": [
        "def twinery_html_to_episode(html_text):\n",
        "    story_data = html_text.split('<tw-storydata')[1].split('</tw-storydata>')[0]\n",
        "    story_data = unescape(story_data)\n",
        "\n",
        "    episode_title = story_data.split('name=\"')[1].split('\"')[0]\n",
        "\n",
        "    pages = list()\n",
        "    for passage_data in story_data.split('<tw-passagedata')[1:]:\n",
        "        page_id = passage_data.split('name=\"')[1].split('\"')[0].strip()\n",
        "            \n",
        "        passage_body = passage_data.split('\">')[1].split('</tw-passagedata>')[0]\n",
        "        passage_lines = [line.strip() for line in passage_body.split('\\n')]\n",
        "\n",
        "        body_lines = [\n",
        "            line for line in passage_lines\n",
        "            if not line.startswith('[[') and not line.endswith(']]')\n",
        "        ]\n",
        "        \n",
        "        action_lines = [\n",
        "            line.strip('[]') for line in passage_lines\n",
        "            if line.startswith('[[') and line.endswith(']]')\n",
        "        ]\n",
        "        actions = [{\n",
        "            'title': line.split('->')[0].strip(),\n",
        "            'linkedPageId': line.split('->')[1].strip(),\n",
        "        } for line in action_lines]\n",
        "        \n",
        "        page = {\n",
        "            'id': page_id,\n",
        "            'body': {'lines': body_lines},\n",
        "            'actions': actions,\n",
        "            'isEnd': len(actions) == 0,\n",
        "        }\n",
        "        pages.append(page)\n",
        "\n",
        "    episode = {\n",
        "        'id': None,  # TODO\n",
        "        'title': episode_title,\n",
        "        'intro': None,  # TODO\n",
        "        'pageList': pages,\n",
        "        'startPageId': None,  # TODO\n",
        "    }\n",
        "    return episode"
      ],
      "execution_count": null,
      "outputs": []
    },
    {
      "cell_type": "code",
      "metadata": {
        "id": "TWh3SPIZIPDY"
      },
      "source": [
        "uploaded = files.upload()\n",
        "\n",
        "content = next(iter(uploaded.values()))\n",
        "html_text = content.decode('utf-8')\n",
        "\n",
        "episode = twinery_html_to_episode(html_text)\n",
        "print(json.dumps(episode, indent=2, ensure_ascii=False))"
      ],
      "execution_count": null,
      "outputs": []
    }
  ]
}