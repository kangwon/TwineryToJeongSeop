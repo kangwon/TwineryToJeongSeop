{
 "cells": [
  {
   "cell_type": "code",
   "execution_count": 1,
   "id": "sound-cookie",
   "metadata": {},
   "outputs": [],
   "source": [
    "import json\n",
    "from dataclasses import dataclass\n",
    "from html import unescape"
   ]
  },
  {
   "cell_type": "code",
   "execution_count": 2,
   "id": "metropolitan-survey",
   "metadata": {},
   "outputs": [],
   "source": [
    "filename = '엘베괴담1'\n",
    "with open(f'./data/{filename}.html') as f:\n",
    "    html_txt = f.read()"
   ]
  },
  {
   "cell_type": "code",
   "execution_count": 3,
   "id": "described-teens",
   "metadata": {},
   "outputs": [],
   "source": [
    "story_data = html_txt.split('<tw-storydata')[1].split('</tw-storydata>')[0]\n",
    "story_data = unescape(story_data)"
   ]
  },
  {
   "cell_type": "code",
   "execution_count": 6,
   "metadata": {},
   "outputs": [
    {
     "output_type": "execute_result",
     "data": {
      "text/plain": [
       "'엘베괴담1'"
      ]
     },
     "metadata": {},
     "execution_count": 6
    }
   ],
   "source": [
    "episode_title = story_data.split('name=\"')[1].split('\"')[0]\n",
    "episode_title"
   ]
  },
  {
   "cell_type": "code",
   "execution_count": 4,
   "id": "satisfactory-accreditation",
   "metadata": {},
   "outputs": [],
   "source": [
    "pages = list()\n",
    "for passage_data in story_data.split('<tw-passagedata')[1:]:\n",
    "    page_id = passage_data.split('name=\"')[1].split('\"')[0].strip()\n",
    "        \n",
    "    passage_body = passage_data.split('\">')[1].split('</tw-passagedata>')[0]\n",
    "    passage_lines = [line.strip() for line in passage_body.split('\\n')]\n",
    "\n",
    "    body_lines = [\n",
    "        line for line in passage_lines\n",
    "        if not line.startswith('[[') and not line.endswith(']]')\n",
    "    ]\n",
    "    \n",
    "    action_lines = [\n",
    "        line.strip('[]') for line in passage_lines\n",
    "        if line.startswith('[[') and line.endswith(']]')\n",
    "    ]\n",
    "    actions = [{\n",
    "        'title': line.split('->')[0].strip(),\n",
    "        'linkedPageId': line.split('->')[1].strip(),\n",
    "    } for line in action_lines]\n",
    "    \n",
    "    page = {\n",
    "        'id': page_id,\n",
    "        'body': {'lines': body_lines},\n",
    "        'actions': actions,\n",
    "        'isEnd': len(actions) == 0,\n",
    "    }\n",
    "    pages.append(page)"
   ]
  },
  {
   "cell_type": "code",
   "execution_count": 7,
   "metadata": {},
   "outputs": [],
   "source": [
    "episode = {\n",
    "    'id': None,  # TODO\n",
    "    'title': episode_title,\n",
    "    'intro': None,  # TODO\n",
    "    'pageList': pages,\n",
    "    'startPageId': None,  # TODO\n",
    "}"
   ]
  },
  {
   "cell_type": "code",
   "execution_count": 8,
   "id": "gentle-praise",
   "metadata": {},
   "outputs": [],
   "source": [
    "with open(f'./data/{filename}.json', 'w') as wf:\n",
    "    json.dump(episode, wf, indent=2, ensure_ascii=False)"
   ]
  }
 ],
 "metadata": {
  "kernelspec": {
   "display_name": "Python 3",
   "language": "python",
   "name": "python3"
  },
  "language_info": {
   "codemirror_mode": {
    "name": "ipython",
    "version": 3
   },
   "file_extension": ".py",
   "mimetype": "text/x-python",
   "name": "python",
   "nbconvert_exporter": "python",
   "pygments_lexer": "ipython3",
   "version": "3.9.1-final"
  }
 },
 "nbformat": 4,
 "nbformat_minor": 5
}